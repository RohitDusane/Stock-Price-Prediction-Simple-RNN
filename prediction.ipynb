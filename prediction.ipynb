{
 "cells": [
  {
   "cell_type": "code",
   "execution_count": 29,
   "id": "757e5655",
   "metadata": {},
   "outputs": [],
   "source": [
    "# Step 1: Import Libraries and Load the Model\n",
    "import numpy as np\n",
    "import pandas as pd\n",
    "import pickle\n",
    "import os\n",
    "import nselib\n",
    "from nselib import capital_market\n",
    "\n",
    "import tensorflow as tf\n",
    "\n",
    "from keras.preprocessing import sequence\n",
    "from keras.models import load_model"
   ]
  },
  {
   "cell_type": "code",
   "execution_count": null,
   "id": "dafe13e0",
   "metadata": {},
   "outputs": [],
   "source": [
    "\n",
    "\n",
    "# def fetch_and_save_nse_data(symbol, start_date='01-01-2021', end_date='30-09-2025', save_path=None):\n",
    "#     # Fetch data\n",
    "#     data = capital_market.price_volume_data(symbol=symbol, from_date=start_date, to_date=end_date)\n",
    "    \n",
    "#     # Filter EQUITY SERIES only\n",
    "#     data_eq = data[data['Series'] == 'EQ']\n",
    "    \n",
    "#     # Select relevant columns\n",
    "#     cols = ['Symbol', 'Series', 'Date', 'PrevClose', 'OpenPrice', 'HighPrice',\n",
    "#             'LowPrice', 'ClosePrice', 'TotalTradedQuantity']\n",
    "#     data_eq = data_eq[cols]\n",
    "    \n",
    "#     # Convert columns to float\n",
    "#     n_cols = ['PrevClose', 'OpenPrice', 'HighPrice', 'LowPrice', 'ClosePrice']\n",
    "#     for col in n_cols:\n",
    "#         data_eq[col] = data_eq[col].astype(float)\n",
    "    \n",
    "#     # Convert volume (remove commas and convert to numeric)\n",
    "#     data_eq['Volume'] = pd.to_numeric(data_eq['TotalTradedQuantity'].str.replace(',', ''), errors='coerce').astype('Int64')\n",
    "    \n",
    "#     # Convert Date column to datetime\n",
    "#     data_eq['Date'] = pd.to_datetime(data_eq['Date'], format='%d-%b-%Y', errors='coerce')\n",
    "    \n",
    "#     # Drop the original TotalTradedQuantity column\n",
    "#     data_eq = data_eq.drop(columns='TotalTradedQuantity', axis=1)\n",
    "    \n",
    "#     print(f'Data preprocessing (`Data Types`) conversion is done...')\n",
    "\n",
    "#     # Select only Date, ClosePrice, Volume\n",
    "#     df = data_eq[['Date', 'ClosePrice']]\n",
    "    \n",
    "#     # Set Date as index\n",
    "#     df.set_index('Date', inplace=True)\n",
    "    \n",
    "#     # Set default save path if not provided\n",
    "#     if save_path is None:\n",
    "#         # Create folder if not exists\n",
    "#         os.makedirs('Data', exist_ok=True)\n",
    "#         save_path = f'Data/{symbol}_raw.csv'\n",
    "    \n",
    "#     data_eq.to_csv(save_path, index=False, header=True)\n",
    "#     print(f'Data for {symbol} saved to {save_path}!')\n",
    "\n",
    "# Example usage:\n",
    "# fetch_and_save_nse_data('INFY', '02-09-2025', '06-09-2025')\n"
   ]
  },
  {
   "cell_type": "code",
   "execution_count": null,
   "id": "e8c27a6c",
   "metadata": {},
   "outputs": [
    {
     "name": "stdout",
     "output_type": "stream",
     "text": [
      "Data preprocessing (`Data Types`) conversion is done...\n",
      "Data for SBIN saved to Data/SBIN_raw.csv!\n"
     ]
    }
   ],
   "source": [
    "# fetch_and_save_nse_data('INFY', '01-09-2025', '03-10-2025')\n"
   ]
  },
  {
   "cell_type": "code",
   "execution_count": null,
   "id": "828ef4b0",
   "metadata": {},
   "outputs": [],
   "source": [
    "# Load the pre-trained model with ReLU activation\n",
    "model = load_model('simple_rnn_base.keras')"
   ]
  },
  {
   "cell_type": "code",
   "execution_count": 33,
   "id": "32cb0a2e",
   "metadata": {},
   "outputs": [],
   "source": [
    "\n",
    "def predict_next_day_price(latest_data_df, lookback, model_path='simple_rnn_base.keras', scaler_path='scaler.pkl'):\n",
    "    \"\"\"\n",
    "    Predict the next day close price using saved model and scaler.\n",
    "    \n",
    "    Parameters:\n",
    "    - latest_data_df: pandas DataFrame with at least `lookback` rows of latest data,\n",
    "                      columns must match the features used during training (e.g. ['ClosePrice', 'Volume', ...])\n",
    "    - lookback: int, how many past timesteps model uses (must be same as training)\n",
    "    - model_path: str, path to saved model (.h5)\n",
    "    - scaler_path: str, path to saved scaler (.pkl)\n",
    "    \n",
    "    Returns:\n",
    "    - next_day_pred: float, predicted next day ClosePrice (unscaled)\n",
    "    \"\"\"\n",
    "    \n",
    "    # 1. Load scaler and model\n",
    "    with open(scaler_path, 'rb') as f:\n",
    "        scaler = pickle.load(f)\n",
    "    model = load_model(model_path)\n",
    "    \n",
    "    # 2. Extract last `lookback` rows as numpy array (shape: (lookback, n_features))\n",
    "    data_array = latest_data_df.values[-lookback:]\n",
    "    \n",
    "    # 3. Scale input data using the saved scaler\n",
    "    data_scaled = scaler.transform(data_array)\n",
    "    \n",
    "    # 4. Reshape to (1, lookback, n_features) as model input\n",
    "    input_seq = data_scaled.reshape(1, lookback, data_scaled.shape[1])\n",
    "    \n",
    "    # 5. Predict scaled output (shape: (1, horizon))\n",
    "    pred_scaled = model.predict(input_seq)\n",
    "    \n",
    "    # 6. Inverse scale the prediction\n",
    "    # Since scaler expects full feature vector, we create a dummy array filled with last known features\n",
    "    n_features = data_scaled.shape[1]\n",
    "    dummy = np.tile(data_scaled[-1, :], (pred_scaled.shape[1], 1))  # shape: (horizon, n_features)\n",
    "    \n",
    "    # Replace the target feature (assumed index 0 = ClosePrice) with predictions\n",
    "    dummy[:, 0] = pred_scaled.flatten()\n",
    "    \n",
    "    # Inverse transform back to original scale\n",
    "    pred_inverse = scaler.inverse_transform(dummy)\n",
    "    \n",
    "    # Extract just the ClosePrice column for the first horizon step (next day)\n",
    "    next_day_pred = pred_inverse[0, 0]\n",
    "    \n",
    "    return next_day_pred\n",
    "\n",
    "\n"
   ]
  },
  {
   "cell_type": "code",
   "execution_count": 34,
   "id": "5adc8d78",
   "metadata": {},
   "outputs": [
    {
     "name": "stdout",
     "output_type": "stream",
     "text": [
      "\u001b[1m1/1\u001b[0m \u001b[32m━━━━━━━━━━━━━━━━━━━━\u001b[0m\u001b[37m\u001b[0m \u001b[1m1s\u001b[0m 630ms/step\n",
      "Predicted next day ClosePrice: 868.44\n"
     ]
    }
   ],
   "source": [
    "# Example usage:\n",
    "# Assume `df` is your full dataframe with features ['ClosePrice', 'Volume', ...] indexed by date\n",
    "df = pd.read_csv(r'Data\\SBIN_raw.csv')\n",
    "lookback = 20\n",
    "latest_data = df[['ClosePrice']].iloc[-lookback:]  # match training features\n",
    "\n",
    "predicted_close = predict_next_day_price(latest_data, lookback)\n",
    "print(f\"Predicted next day ClosePrice: {predicted_close:.2f}\")\n"
   ]
  }
 ],
 "metadata": {
  "kernelspec": {
   "display_name": "Python 3",
   "language": "python",
   "name": "python3"
  },
  "language_info": {
   "codemirror_mode": {
    "name": "ipython",
    "version": 3
   },
   "file_extension": ".py",
   "mimetype": "text/x-python",
   "name": "python",
   "nbconvert_exporter": "python",
   "pygments_lexer": "ipython3",
   "version": "3.12.0"
  }
 },
 "nbformat": 4,
 "nbformat_minor": 5
}
